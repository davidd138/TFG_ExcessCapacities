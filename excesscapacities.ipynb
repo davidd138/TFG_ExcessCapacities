{
  "nbformat": 4,
  "nbformat_minor": 0,
  "metadata": {
    "colab": {
      "name": "Untitled7.ipynb",
      "provenance": [],
      "toc_visible": true,
      "mount_file_id": "1IQ72K277hVYS9ZthkGtb5Xm5dJ6oOc9A",
      "authorship_tag": "ABX9TyMtqULn0zRtQY34JuiN20Pl",
      "include_colab_link": true
    },
    "kernelspec": {
      "name": "python3",
      "display_name": "Python 3"
    }
  },
  "cells": [
    {
      "cell_type": "markdown",
      "metadata": {
        "id": "view-in-github",
        "colab_type": "text"
      },
      "source": [
        "<a href=\"https://colab.research.google.com/github/davidd138/TFG_ExcessCapacities/blob/main/Untitled7.ipynb\" target=\"_parent\"><img src=\"https://colab.research.google.com/assets/colab-badge.svg\" alt=\"Open In Colab\"/></a>"
      ]
    },
    {
      "cell_type": "code",
      "metadata": {
        "colab": {
          "base_uri": "https://localhost:8080/"
        },
        "id": "3SsbWFpD0-x9",
        "outputId": "a4e31f52-f483-4773-d145-7eba96f14476"
      },
      "source": [
        "total=open(\"/content/drive/MyDrive/temp-irmof8-interpenetrated-2-P3T77periodic111fh/irmof8-interpenetrated-2-muvt-10000000-1-3-77-1.0-periodic-111-percen0.2-srk-fh.out-new\", \"r\")\n",
        "compressed=open(\"/content/drive/MyDrive/temp-H2_molecules-P3T77periodic111fh/H2_molecules-muvt-10000000-1-3-77-1.0-periodic-111-percen0.2-srk-fh.out-new\", \"r\")\n",
        "\n",
        "total=total.readlines()\n",
        "compressed=compressed.readlines()\n",
        "\n",
        "def atributo(n_linea,start,end,doc):\n",
        "    start1=doc[n_linea].find(start)\n",
        "    end1=doc[n_linea].find(end)\n",
        "    return float(doc[n_linea][start1:end1].strip(start))\n",
        "\n",
        "# Número de moléculas de hidrógeno almacenadas en el material\n",
        "nmoleculestotal=atributo(79,\"nmolecules=\",\"densitystoredgas=\",total)\n",
        "#print(nmoleculestotal)\n",
        "\n",
        "# Número de moléculas en fase comprimida\n",
        "nmoleculescompressed=atributo(59,\"nmolecules=\",\"densitystoredgas=\",compressed)\n",
        "#print(nmoleculescompressed)\n",
        "\n",
        "# Densidad volumétrica total (kg/L)\n",
        "vctotal=atributo(79,\"densitystoredgas=\",\"kg/L\",total)\n",
        "#print(vctotal)\n",
        "\n",
        "# Densidad volumétrica en fase comprimida in kg/L\n",
        "vccompressed=atributo(59,\"densitystoredgas=\",\"kg/L\",compressed)\n",
        "#print(vccompressed)\n",
        "\n",
        "# Volumen en Angstrom^3\n",
        "volume=atributo(31,\"V=\",\"Angstrom^3\",total)\n",
        "#print(volume)\n",
        "\n",
        "# irmof8interpenetrated\n",
        "# Volumen libre para el interpenetrado\n",
        "# Angstroms^3\n",
        "volumeavailable=7987.643\n",
        "\n",
        "# mass in Angstrom^3 * kg/L\n",
        "storedmass=volume*vctotal\n",
        "\n",
        "# gc in wt %\n",
        "gctotal=atributo(79,\"gc=\",\"wt %\",total)\n",
        "\n",
        "# mass in Angstrom^3 * kg/L\n",
        "massadsorbent=storedmass*(100-gctotal)/gctotal\n",
        "\n",
        "# Calculate mass of the compressed phase\n",
        "# mass in Angstrom^3 * kg/L\n",
        "masscompressed=volumeavailable*vccompressed\n",
        "\n",
        "# Calculate excess gravimetric capacity, using the mass of the compressed phase\n",
        "# Angstroms^3 * kg/L\n",
        "massdiff=storedmass-masscompressed\n",
        "\n",
        "# Angstroms^3 * kg/L\n",
        "massexcess1=max(0.0,massdiff)\n",
        "\n",
        "# gc in wt %\n",
        "gcexcess1=100*massexcess1/(massexcess1+massadsorbent)\n",
        "\n",
        "# Calculate excess volumetric capacity\n",
        "# massexcess is in Angstroms^3 kg/L and volume is in Angstroms^3\n",
        "# vc_excess in kg/L\n",
        "vcexcess=massexcess1/volume\n",
        "\n",
        "print(\"Capacidad gravimétrica en exceso (wt %):\", gcexcess1)\n",
        "print(\"Densidad volumétrica en exceso (kg/L):\", vcexcess)"
      ],
      "execution_count": 7,
      "outputs": [
        {
          "output_type": "stream",
          "text": [
            "Capacidad gravimétrica en exceso (wt %): 3.291988943664212\n",
            "Densidad volumétrica en exceso (kg/L): 0.030525670029139966\n"
          ],
          "name": "stdout"
        }
      ]
    }
  ]
}
